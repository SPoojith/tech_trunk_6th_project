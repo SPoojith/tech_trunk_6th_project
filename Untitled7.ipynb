{
 "cells": [
  {
   "cell_type": "code",
   "execution_count": 1,
   "id": "e8bc6730",
   "metadata": {},
   "outputs": [],
   "source": [
    "import numpy as np\n",
    "import pandas as pd\n",
    "import matplotlib.pyplot as plt"
   ]
  },
  {
   "cell_type": "code",
   "execution_count": null,
   "id": "fea59a9c",
   "metadata": {},
   "outputs": [],
   "source": [
    "# 1) we declare and define a linear_regression funtion which accepts 2 parameters, Independent variable X and dependent variable Y  \n",
    "# 2)Then initilize the variable N with total number of x.\n",
    "# 3)initilize X_mean with mean of x value from the parameter provided\n",
    "# 4)initilize Y_mean with mean of y value from the parameter provided\n",
    "# 5) As the Linear Regression formula suggest slope(B1) = sum of X-X_mean and Y-Y_mean to the square of X-X_mean\n",
    "# 6) And intercept(B0) = Y_mean - B1 * X_mean\n",
    "# 7) then the Regression line is given by Y' = B0 + β'B1\n",
    "# 8) And finally we return B0,B1 and Regression Line to plot."
   ]
  },
  {
   "cell_type": "code",
   "execution_count": 2,
   "id": "8213b42b",
   "metadata": {},
   "outputs": [],
   "source": [
    "def linear_regression(x, y):                                             \n",
    "    N = len(x)                                                          \n",
    "    x_mean = x.mean()                                                    \n",
    "    y_mean = y.mean()                                                    \n",
    "    B1_num = ((x - x_mean) * (y - y_mean)).sum()                         \n",
    "    B1_den = ((x - x_mean)**2).sum()                                     \n",
    "    B1 = B1_num / B1_den                                                 \n",
    "    B0 = y_mean - (B1*x_mean)                                            \n",
    "    \n",
    "    reg_line = 'y = {} + {}β'.format(B0, round(B1, 3))                   \n",
    "    \n",
    "    return (B0, B1, reg_line)                                            "
   ]
  },
  {
   "cell_type": "code",
   "execution_count": 3,
   "id": "a279951f",
   "metadata": {},
   "outputs": [],
   "source": [
    "# Further we can provide the CSV data and get the slope,intercept and regression line for specific CSV dataset\n",
    "# eg:data = pd.read_csv('CSV_DATA_SET_File.csv')\n",
    "# x = data['Independent variable']\n",
    "# y = data['dependent variable']\n",
    "# And passing X and Y value to the linear_regression function\n",
    "# B0, B1, reg_line = linear_regression(x, y)\n",
    "# and plot the same "
   ]
  },
  {
   "cell_type": "code",
   "execution_count": null,
   "id": "0c89e78a",
   "metadata": {},
   "outputs": [],
   "source": []
  }
 ],
 "metadata": {
  "kernelspec": {
   "display_name": "Python 3",
   "language": "python",
   "name": "python3"
  },
  "language_info": {
   "codemirror_mode": {
    "name": "ipython",
    "version": 3
   },
   "file_extension": ".py",
   "mimetype": "text/x-python",
   "name": "python",
   "nbconvert_exporter": "python",
   "pygments_lexer": "ipython3",
   "version": "3.8.8"
  }
 },
 "nbformat": 4,
 "nbformat_minor": 5
}
